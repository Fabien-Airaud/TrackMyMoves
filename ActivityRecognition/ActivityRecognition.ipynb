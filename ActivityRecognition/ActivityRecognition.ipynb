{
 "cells": [
  {
   "attachments": {},
   "cell_type": "markdown",
   "metadata": {},
   "source": [
    "Importation des données"
   ]
  },
  {
   "cell_type": "code",
   "execution_count": 1,
   "metadata": {},
   "outputs": [],
   "source": [
    "import os\n",
    "import pandas as pd\n",
    "\n",
    "# demande à l'utilisateur le chemin vers la BD\n",
    "# chemin_BD = input(\"Entrez le chemin vers la base de données: \")\n",
    "chemin_BD = \"./dataset/UCI_HAR_Dataset/UCI HAR Dataset\"\n",
    "\n",
    "# Supprime les espaces en début et fin de chaîne de caractères\n",
    "chemin_BD=chemin_BD.strip()\n",
    "\n",
    "# Chemin vers le dossier train\n",
    "chemin_train = os.path.join(chemin_BD, \"train\")\n",
    "# Chemin vers le dossier test\n",
    "chemin_test = os.path.join(chemin_BD, \"test\")\n",
    "\n",
    "# Fonction pour lire un fichier\n",
    "def lire_fichier(path):                                  \n",
    "    return pd.read_csv(path, delim_whitespace=True, header=None) # delim_whitespace=True permet de lire les données séparées par des espaces (et non des virgules)\n",
    "\n",
    "# Lecture (données brutes et annotations) du dossier train\n",
    "donnees_brutes_train = lire_fichier(os.path.join(chemin_train, \"X_train.txt\"))\n",
    "annotations_train = lire_fichier(os.path.join(chemin_train, \"y_train.txt\"))\n",
    "y_train=annotations_train.values.ravel()  \n",
    "\n",
    "# Lecture (données brutes et annotations) du dossier test\n",
    "donnees_brutes_test = lire_fichier(os.path.join(chemin_test, \"X_test.txt\"))\n",
    "annotations_test = lire_fichier(os.path.join(chemin_test, \"y_test.txt\"))"
   ]
  }
 ],
 "metadata": {
  "kernelspec": {
   "display_name": "Python 3",
   "language": "python",
   "name": "python3"
  },
  "language_info": {
   "codemirror_mode": {
    "name": "ipython",
    "version": 3
   },
   "file_extension": ".py",
   "mimetype": "text/x-python",
   "name": "python",
   "nbconvert_exporter": "python",
   "pygments_lexer": "ipython3",
   "version": "3.11.5"
  },
  "orig_nbformat": 4
 },
 "nbformat": 4,
 "nbformat_minor": 2
}
